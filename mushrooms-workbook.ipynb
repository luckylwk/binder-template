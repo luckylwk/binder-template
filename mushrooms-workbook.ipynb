{
 "cells": [
  {
   "cell_type": "markdown",
   "metadata": {},
   "source": [
    "## Installing libraries\n",
    "\n",
    "This can be tricky. Some libraries for whatever reason, \n",
    "need to be installed in different ways"
   ]
  },
  {
   "cell_type": "code",
   "execution_count": null,
   "metadata": {},
   "outputs": [],
   "source": [
    "#not all libraries can be installed so easily. Often graphics libraries (graphs) have to do some \n",
    "# clever stuff to talk to the graphics card.\n",
    "# unfortunately, those libraries have to be isntalled in a slightly different way...\n",
    "# from home ,choose New -> Terminal\n",
    "# enter the following (copy paste), and press enter\n",
    "# conda install -c anaconda graphviz --yes\n",
    "\n",
    "!pip install matplotlib\n",
    "!pip install seaborn\n",
    "!pip install graphviz\n",
    "!pip install pydotplus\n",
    "\n",
    "#install the pandas and sklearn libraries"
   ]
  },
  {
   "cell_type": "markdown",
   "metadata": {},
   "source": [
    "## Importing Libraries\n",
    "\n",
    "We need to bring the libraries in to our project"
   ]
  },
  {
   "cell_type": "code",
   "execution_count": null,
   "metadata": {},
   "outputs": [],
   "source": [
    "import seaborn as sns #advanced bar charts\n",
    "import graphviz #graphing librari\n",
    "import pydotplus #library for drawing dots on graph efficiently\n",
    "from sklearn.model_selection import cross_val_score, GridSearchCV #libraries for imporving learning\n",
    "from IPython.display import Image #create image files\n",
    "\n",
    "#import the pandas and sklean tree module"
   ]
  },
  {
   "cell_type": "code",
   "execution_count": null,
   "metadata": {},
   "outputs": [],
   "source": [
    "#load the data"
   ]
  },
  {
   "cell_type": "code",
   "execution_count": null,
   "metadata": {},
   "outputs": [],
   "source": [
    "#use the sns library to see how odour and class are related\n",
    "#courtesy of https://www.kaggle.com/surajit346/ml-models-and-visualizations-for-beginners\n",
    "sns.countplot(x='', hue=''),data=)"
   ]
  },
  {
   "cell_type": "code",
   "execution_count": null,
   "metadata": {},
   "outputs": [],
   "source": [
    "#seperate out the classes and features"
   ]
  },
  {
   "cell_type": "code",
   "execution_count": null,
   "metadata": {},
   "outputs": [],
   "source": [
    "#create a model"
   ]
  },
  {
   "cell_type": "code",
   "execution_count": null,
   "metadata": {},
   "outputs": [],
   "source": [
    "#function to plot a tree, courtesy of sklearn\n",
    "# http://scikit-learn.org/stable/modules/tree.html#classification\n",
    "def plotTree():\n",
    "    dot_data = tree.export_graphviz(model, \n",
    "                                    out_file=None, \n",
    "                                    feature_names=features.columns,\n",
    "                                    filled=True, \n",
    "                                    rounded=True,  \n",
    "                                    class_names=model.classes_,\n",
    "                                    special_characters=True)\n",
    "    #graph = graphviz.Source(dot_data)\n",
    "    graph = pydot_graph = pydotplus.graph_from_dot_data(dot_data)\n",
    "    return graph.create_png()"
   ]
  },
  {
   "cell_type": "code",
   "execution_count": null,
   "metadata": {},
   "outputs": [],
   "source": [
    "#plot a tree(we imported the image library already)"
   ]
  }
 ],
 "metadata": {
  "kernelspec": {
   "display_name": "Python 3",
   "language": "python",
   "name": "python3"
  },
  "language_info": {
   "codemirror_mode": {
    "name": "ipython",
    "version": 3
   },
   "file_extension": ".py",
   "mimetype": "text/x-python",
   "name": "python",
   "nbconvert_exporter": "python",
   "pygments_lexer": "ipython3",
   "version": "3.6.6"
  }
 },
 "nbformat": 4,
 "nbformat_minor": 2
}
