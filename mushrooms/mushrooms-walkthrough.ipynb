{
 "cells": [
  {
   "cell_type": "code",
   "execution_count": null,
   "metadata": {},
   "outputs": [],
   "source": [
    "# install libraries\n",
    "#import os\n",
    "#os.environ[\"PATH\"] = \"/srv/conda/lib\" + os.pathsep + os.environ[\"PATH\"]\n",
    "#print(os.environ[\"PATH\"])\n",
    "\n",
    "\n",
    "#not all libraries can be installed so easily. Often graphics libraries (graphs) have to do some \n",
    "# clever stuff to talk to the graphics card.\n",
    "# unfortunately, those libraries have to be isntalled in a slightly different way...\n",
    "# from home ,choose New -> Terminal\n",
    "# enter the following (copy paste), and press enter\n",
    "# conda install -c anaconda graphviz --yes\n",
    "# repeat for:\n",
    "# conda install -c anaconda pydotplus --yes\n",
    "\n",
    "!conda install -c anaconda graphviz --yes \n",
    "!pip install pandas \n",
    "!pip install sklearn\n",
    "!pip install matplotlib\n",
    "!pip install seaborn\n",
    "!pip install graphviz\n",
    "!pip install pydotplus\n"
   ]
  },
  {
   "cell_type": "code",
   "execution_count": null,
   "metadata": {},
   "outputs": [],
   "source": [
    "#import libraries\n",
    "# 🐼 is to work with tables of data (http://pandas.pydata.org/)\n",
    "import pandas as pd\n",
    "\n",
    "# sklearn is for machine learning (http://scikit-learn.org)\n",
    "from sklearn import tree\n",
    "\n",
    "# matplotlib is to make plots, pandas using it under the hood\n",
    "# Display plots in this page rather than open another page\n",
    "%matplotlib inline\n",
    "\n",
    "import seaborn as sns\n",
    "\n",
    "import graphviz \n",
    "import pydotplus #library for drawing dots on graph efficiently\n",
    "\n",
    "from sklearn.model_selection import cross_val_score, GridSearchCV #libraries for imporving learning\n",
    "\n",
    "from IPython.display import Image #create image files"
   ]
  },
  {
   "cell_type": "code",
   "execution_count": null,
   "metadata": {},
   "outputs": [],
   "source": [
    "# load the data\n",
    "df = pd.read_csv('mushrooms.csv')"
   ]
  },
  {
   "cell_type": "code",
   "execution_count": null,
   "metadata": {},
   "outputs": [],
   "source": [
    "#explore data\n",
    "df.head()"
   ]
  },
  {
   "cell_type": "code",
   "execution_count": null,
   "metadata": {},
   "outputs": [],
   "source": [
    "#describe the data\n",
    "df.describe()"
   ]
  },
  {
   "cell_type": "code",
   "execution_count": null,
   "metadata": {},
   "outputs": [],
   "source": [
    "#Let's try and visualise this data with the help of https://www.kaggle.com/surajit346/ml-models-and-visualizations-for-beginners\n"
   ]
  },
  {
   "cell_type": "code",
   "execution_count": null,
   "metadata": {},
   "outputs": [],
   "source": [
    "sns.countplot(x='odor',hue='class',data=df)\n"
   ]
  },
  {
   "cell_type": "code",
   "execution_count": null,
   "metadata": {},
   "outputs": [],
   "source": [
    "#one hot encoding the data\n",
    "features = pd.get_dummies(df)\n",
    "features.head()"
   ]
  },
  {
   "cell_type": "code",
   "execution_count": null,
   "metadata": {},
   "outputs": [],
   "source": [
    "#we are interested whether its edible or poisonous, so we don't want to use that information as part of our model\n",
    "#if we did, we would be able to use the fact a mushroom is edible or poisonous to tell us if its either...\n",
    "#that would be cheating. So we remove these features.\n",
    "#we will store these properties (the result its predicting in classes. So now we have features and classes)\n",
    "features = features.drop(['class_e','class_p'],axis=1)\n",
    "classes = df['class']"
   ]
  },
  {
   "cell_type": "code",
   "execution_count": null,
   "metadata": {
    "scrolled": true
   },
   "outputs": [],
   "source": [
    "#so now we use a decision tree on the features to predict the classes\n",
    "model = tree.DecisionTreeClassifier()\n",
    "model.fit(features,classes)"
   ]
  },
  {
   "cell_type": "code",
   "execution_count": null,
   "metadata": {},
   "outputs": [],
   "source": [
    "#using sklearn's documentation we have written a function for you to plot the tree\n",
    "#from here: # http://scikit-learn.org/stable/modules/tree.html#classification\n",
    "def plotTree():\n",
    "    dot_data = tree.export_graphviz(model, \n",
    "                                    out_file=None, \n",
    "                                    feature_names=features.columns,\n",
    "                                    filled=True, \n",
    "                                    rounded=True,  \n",
    "                                    class_names=model.classes_,\n",
    "                                    special_characters=True)\n",
    "    #graph = graphviz.Source(dot_data)\n",
    "    graph = pydotplus.graph_from_dot_data(dot_data)\n",
    "    return graph.create_png()"
   ]
  },
  {
   "cell_type": "code",
   "execution_count": null,
   "metadata": {},
   "outputs": [],
   "source": [
    "# make sure to have installed the libraries via anaconda\n",
    "# conda install -c anaconda graphviz --yes\n",
    "\n",
    "#lets plot the tree\n",
    "img = plotTree()\n",
    "Image(img)"
   ]
  },
  {
   "cell_type": "code",
   "execution_count": null,
   "metadata": {},
   "outputs": [],
   "source": [
    "#first things first, its splitting on odour! from a picture we cant tell odour, so we have to remove it. \n",
    "# And infact there are a load of things we can't tell from a picture:\n",
    "features = pd.get_dummies(df.drop(['class','odor','gill-attachment',\n",
    "                                  'gill-spacing','stalk-shape','stalk-root','stalk-surface-above-ring',\n",
    "                                 'stalk-surface-below-ring','population','gill-size','habitat','bruises','spore-print-color'],axis=1))\n",
    "model = tree.DecisionTreeClassifier()\n",
    "model.fit(features,classes)\n",
    "img = plotTree()\n",
    "Image(img)"
   ]
  },
  {
   "cell_type": "code",
   "execution_count": null,
   "metadata": {},
   "outputs": [],
   "source": [
    "#right, its now having to ask ALOT of questions to get anything its satisfied with. This isn't easy to read.\n",
    "# Lets see how good it is... (remember 0 is bad)\n",
    "model.score(features,classes)"
   ]
  },
  {
   "cell_type": "code",
   "execution_count": null,
   "metadata": {},
   "outputs": [],
   "source": [
    "#overfitting...\n",
    "#lets cross validate\n",
    "# http://scikit-learn.org/stable/modules/cross_validation.html\n",
    "train_test = cross_val_score(model, features, classes)\n",
    "print(train_test)"
   ]
  },
  {
   "cell_type": "code",
   "execution_count": null,
   "metadata": {},
   "outputs": [],
   "source": [
    "train_test.mean() #get the average score of all the tests..."
   ]
  },
  {
   "cell_type": "code",
   "execution_count": null,
   "metadata": {},
   "outputs": [],
   "source": [
    "parameters = {'max_depth':range(2,20)}\n",
    "\n",
    "modelSearch = GridSearchCV(tree.DecisionTreeClassifier(), parameters)#, n_jobs=4\n",
    "\n",
    "modelSearch.fit(features, classes)\n",
    "\n",
    "depth = modelSearch.best_params_[\"max_depth\"]\n",
    "#tree_model = modelSearch.best_estimator_\n",
    "\n",
    "model = tree.DecisionTreeClassifier(max_depth=depth)\n",
    "model.fit(features,classes)\n",
    "model.score(features,classes)"
   ]
  },
  {
   "cell_type": "code",
   "execution_count": null,
   "metadata": {},
   "outputs": [],
   "source": [
    "img = plotTree()\n",
    "Image(img)"
   ]
  },
  {
   "cell_type": "code",
   "execution_count": null,
   "metadata": {},
   "outputs": [],
   "source": []
  }
 ],
 "metadata": {
  "kernelspec": {
   "display_name": "Python 3",
   "language": "python",
   "name": "python3"
  },
  "language_info": {
   "codemirror_mode": {
    "name": "ipython",
    "version": 3
   },
   "file_extension": ".py",
   "mimetype": "text/x-python",
   "name": "python",
   "nbconvert_exporter": "python",
   "pygments_lexer": "ipython3",
   "version": "3.6.6"
  }
 },
 "nbformat": 4,
 "nbformat_minor": 2
}
