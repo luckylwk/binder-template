{
 "cells": [
  {
   "cell_type": "code",
   "execution_count": null,
   "metadata": {},
   "outputs": [],
   "source": [
    "# install libraries\n",
    "import os\n",
    "os.environ[\"PATH\"] = \"/srv/conda/lib\" + os.pathsep + os.environ[\"PATH\"]\n",
    "print(os.environ[\"PATH\"])\n",
    "!pip install pandas\n",
    "!pip install sklearn\n",
    "!pip install matplotlib\n",
    "!pip install graphviz\n",
    "!pip install seaborn\n"
   ]
  },
  {
   "cell_type": "code",
   "execution_count": null,
   "metadata": {},
   "outputs": [],
   "source": [
    "#import libraries\n",
    "# 🐼 is to work with tables of data (http://pandas.pydata.org/)\n",
    "import pandas as pd\n",
    "\n",
    "# sklearn is for machine learning (http://scikit-learn.org)\n",
    "from sklearn import tree\n",
    "\n",
    "# matplotlib is to make plots, pandas using it under the hood\n",
    "# Display plots in this page rather than open another page\n",
    "%matplotlib inline\n",
    "\n",
    "import seaborn as sns\n",
    "\n",
    "import graphviz \n",
    "\n",
    "from sklearn.model_selection import cross_val_score, GridSearchCV"
   ]
  },
  {
   "cell_type": "code",
   "execution_count": null,
   "metadata": {},
   "outputs": [],
   "source": [
    "# load the data\n",
    "df = pd.read_csv('mushrooms.csv')"
   ]
  },
  {
   "cell_type": "code",
   "execution_count": null,
   "metadata": {},
   "outputs": [],
   "source": [
    "#explore data\n",
    "df.head()"
   ]
  },
  {
   "cell_type": "code",
   "execution_count": null,
   "metadata": {},
   "outputs": [],
   "source": [
    "#describe the data\n",
    "df.describe()"
   ]
  },
  {
   "cell_type": "code",
   "execution_count": null,
   "metadata": {},
   "outputs": [],
   "source": [
    "#Let's try and visualise this data with the help of https://www.kaggle.com/surajit346/ml-models-and-visualizations-for-beginners\n"
   ]
  },
  {
   "cell_type": "code",
   "execution_count": null,
   "metadata": {},
   "outputs": [],
   "source": [
    "sns.countplot(x='odor',hue='class',data=df)\n"
   ]
  },
  {
   "cell_type": "code",
   "execution_count": null,
   "metadata": {},
   "outputs": [],
   "source": [
    "#one hot encoding the data\n",
    "features = pd.get_dummies(df)\n",
    "features.head()"
   ]
  },
  {
   "cell_type": "code",
   "execution_count": null,
   "metadata": {},
   "outputs": [],
   "source": [
    "#we are interested whether its edible or poisonous, so we don't want to use that information as part of our model\n",
    "#if we did, we would be able to use the fact a mushroom is edible or poisonous to tell us if its either...\n",
    "#that would be cheating. So we remove these features.\n",
    "#we will store these properties (the result its predicting in classes. So now we have features and classes)\n",
    "features = features.drop(['class_e','class_p'],axis=1)\n",
    "classes = df['class']"
   ]
  },
  {
   "cell_type": "code",
   "execution_count": null,
   "metadata": {},
   "outputs": [],
   "source": [
    "#so now we use a decision tree on the features to predict the classes\n",
    "model = tree.DecisionTreeClassifier()\n",
    "model.fit(features,classes)"
   ]
  },
  {
   "cell_type": "code",
   "execution_count": 34,
   "metadata": {},
   "outputs": [
    {
     "name": "stdout",
     "output_type": "stream",
     "text": [
      "Requirement already satisfied: pydotplus in /srv/conda/lib/python3.6/site-packages (2.0.2)\r\n",
      "Requirement already satisfied: pyparsing>=2.0.1 in /srv/conda/lib/python3.6/site-packages (from pydotplus) (2.2.2)\r\n"
     ]
    }
   ],
   "source": [
    "import graphviz\n",
    "!pip install pydotplus\n",
    "import pydotplus"
   ]
  },
  {
   "cell_type": "code",
   "execution_count": 35,
   "metadata": {},
   "outputs": [],
   "source": [
    "#using sklearn's documentation we have written a function for you to plot the tree\n",
    "#from here: # http://scikit-learn.org/stable/modules/tree.html#classification\n",
    "def plotTree():\n",
    "    dot_data = tree.export_graphviz(model, \n",
    "                                    out_file=None, \n",
    "                                    feature_names=features.columns,\n",
    "                                    filled=True, \n",
    "                                    rounded=True,  \n",
    "                                    class_names=model.classes_,\n",
    "                                    special_characters=True)\n",
    "    #graph = graphviz.Source(dot_data)\n",
    "    graph = pydot_graph = pydotplus.graph_from_dot_data(dot_data)\n",
    "    return graph"
   ]
  },
  {
   "cell_type": "code",
   "execution_count": 36,
   "metadata": {},
   "outputs": [
    {
     "data": {
      "text/plain": [
       "<pydotplus.graphviz.Dot at 0x7fae0f46a4e0>"
      ]
     },
     "execution_count": 36,
     "metadata": {},
     "output_type": "execute_result"
    }
   ],
   "source": [
    "\n",
    "#lets plot the tree\n",
    "d = plotTree()\n",
    "d"
   ]
  },
  {
   "cell_type": "code",
   "execution_count": null,
   "metadata": {},
   "outputs": [],
   "source": []
  },
  {
   "cell_type": "code",
   "execution_count": null,
   "metadata": {},
   "outputs": [],
   "source": []
  }
 ],
 "metadata": {
  "kernelspec": {
   "display_name": "Python 3",
   "language": "python",
   "name": "python3"
  },
  "language_info": {
   "codemirror_mode": {
    "name": "ipython",
    "version": 3
   },
   "file_extension": ".py",
   "mimetype": "text/x-python",
   "name": "python",
   "nbconvert_exporter": "python",
   "pygments_lexer": "ipython3",
   "version": "3.6.6"
  }
 },
 "nbformat": 4,
 "nbformat_minor": 2
}
